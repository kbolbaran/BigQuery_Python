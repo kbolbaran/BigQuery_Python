{
 "cells": [
  {
   "cell_type": "code",
   "execution_count": 1,
   "metadata": {},
   "outputs": [],
   "source": [
    "# Librerias\n",
    "import json\n",
    "import numpy as np\n",
    "import matplotlib.pyplot as plt\n",
    "from sqlalchemy import create_engine, text\n",
    "import pandas as pd\n",
    "from pandasql import sqldf\n",
    "from datetime import datetime,timedelta\n",
    "from matplotlib.ticker import FuncFormatter\n",
    "import ast\n",
    "import os\n",
    "import cx_Oracle\n",
    "from google.cloud import bigquery\n",
    "import pandas as pd\n",
    "import json\n",
    "import pytz\n",
    "import db_dtypes\n",
    "from datetime import datetime\n",
    "# Cargar json\n",
    "with open('credenciales.json', 'r') as file:\n",
    "    credenciales = json.load(file)"
   ]
  },
  {
   "cell_type": "code",
   "execution_count": null,
   "metadata": {},
   "outputs": [],
   "source": [
    "# Install the db-dtypes package\n",
    "\n",
    "\n",
    "os.environ['GOOGLE_APPLICATION_CREDENTIALS']='conexion_bigquery.json'\n",
    "\n",
    "# Construct a BigQuery client object.\n",
    "client=bigquery.Client()\n",
    "\n",
    "query=\"\"\"SELECT * FROM `poc_pipeline_correos.ventas`\n",
    "WHERE fecha_y_hora_pago >= CURRENT_DATE - INTERVAL 5 DAY\"\"\"\n",
    "reporte_ventas = client.query(query).to_dataframe()\n"
   ]
  },
  {
   "cell_type": "code",
   "execution_count": 4,
   "metadata": {},
   "outputs": [],
   "source": [
    "# Obtener la fecha actual en formato YYYYMMDD\n",
    "fecha_actual = datetime.now().strftime('%Y%m%d')\n",
    "\n",
    "# Componer el nombre del archivo con la fecha actual\n",
    "nombre_archivo = (f\"{fecha_actual}-REPORTE DE VENTAS.xlsx\")\n",
    "\n",
    "# Guardar el DataFrame como un archivo Excel en la ruta especificada\n",
    "reporte_ventas.to_excel(nombre_archivo, index=False)"
   ]
  }
 ],
 "metadata": {
  "kernelspec": {
   "display_name": "default",
   "language": "python",
   "name": "python3"
  },
  "language_info": {
   "codemirror_mode": {
    "name": "ipython",
    "version": 3
   },
   "file_extension": ".py",
   "mimetype": "text/x-python",
   "name": "python",
   "nbconvert_exporter": "python",
   "pygments_lexer": "ipython3",
   "version": "3.9.19"
  }
 },
 "nbformat": 4,
 "nbformat_minor": 2
}
